{
 "cells": [
  {
   "cell_type": "markdown",
   "id": "6f44bc8c",
   "metadata": {},
   "source": [
    "# Example fits"
   ]
  },
  {
   "cell_type": "code",
   "execution_count": 1,
   "id": "ceac7d34",
   "metadata": {},
   "outputs": [],
   "source": [
    "import open3d as o3d\n",
    "import geomfitty.plot\n",
    "from geomfitty import geom3d, fit3d\n",
    "import numpy as np\n",
    "import matplotlib.pyplot as plt"
   ]
  },
  {
   "cell_type": "code",
   "execution_count": 2,
   "id": "b0a01c78",
   "metadata": {},
   "outputs": [],
   "source": [
    "np.random.seed(42)"
   ]
  },
  {
   "cell_type": "markdown",
   "id": "c32537da",
   "metadata": {},
   "source": [
    "## Line"
   ]
  },
  {
   "cell_type": "code",
   "execution_count": 3,
   "id": "97d6fb2e",
   "metadata": {},
   "outputs": [],
   "source": [
    "points = np.random.uniform(low=-1, high=1, size=(100, 3))\n",
    "points[:, :2] /= 10\n",
    "rotation = o3d.geometry.get_rotation_matrix_from_axis_angle([0,1,1])\n",
    "points = (rotation @ points.T).T"
   ]
  },
  {
   "cell_type": "code",
   "execution_count": 4,
   "id": "283cef81",
   "metadata": {},
   "outputs": [
    {
     "data": {
      "text/plain": [
       "Line(anchor_point=[-0.0076268990978275285, -0.004913806321427127, 1.2469080168523438e-05], direction=[-0.6981627870705818, -0.41482088813348006, -0.5835172264106593])"
      ]
     },
     "execution_count": 4,
     "metadata": {},
     "output_type": "execute_result"
    }
   ],
   "source": [
    "line = fit3d.line_fit(points)\n",
    "line"
   ]
  },
  {
   "cell_type": "code",
   "execution_count": 5,
   "id": "4162cb2e",
   "metadata": {},
   "outputs": [],
   "source": [
    "geomfitty.plot.plot([points, line])"
   ]
  },
  {
   "cell_type": "markdown",
   "id": "f4e76ea0",
   "metadata": {},
   "source": [
    "## Plane"
   ]
  },
  {
   "cell_type": "code",
   "execution_count": 6,
   "id": "77ff51a7",
   "metadata": {},
   "outputs": [],
   "source": [
    "points = np.random.uniform(low=-1, high=1, size=(100, 3))\n",
    "points[:, 2] /= 10"
   ]
  },
  {
   "cell_type": "code",
   "execution_count": 7,
   "id": "ff6148a1",
   "metadata": {},
   "outputs": [
    {
     "data": {
      "text/plain": [
       "Plane(anchor_point=[0.06922961644281744, 0.058856184645798545, -0.006309678397482694], normal=[-0.015954030107862012, -0.012106523325238027, 0.999799430394063])"
      ]
     },
     "execution_count": 7,
     "metadata": {},
     "output_type": "execute_result"
    }
   ],
   "source": [
    "plane = fit3d.plane_fit(points)\n",
    "plane"
   ]
  },
  {
   "cell_type": "code",
   "execution_count": 8,
   "id": "e5528301",
   "metadata": {},
   "outputs": [],
   "source": [
    "geomfitty.plot.plot([points, plane])"
   ]
  },
  {
   "cell_type": "markdown",
   "id": "41b35431",
   "metadata": {},
   "source": [
    "## Sphere"
   ]
  },
  {
   "cell_type": "code",
   "execution_count": 9,
   "id": "7f434587",
   "metadata": {},
   "outputs": [],
   "source": [
    "points = np.random.uniform(low=-1, high=1, size=(3, 100))\n",
    "points /= np.linalg.norm(points, axis=0) * np.random.uniform(\n",
    "    low=0.9, high=1.1, size=(100,)\n",
    ")\n",
    "points = points.T"
   ]
  },
  {
   "cell_type": "code",
   "execution_count": 10,
   "id": "8532fab5",
   "metadata": {},
   "outputs": [
    {
     "data": {
      "text/plain": [
       "Sphere(center=[0.0014897784960129132, -0.016540852028145887, -0.009150910138875189], radius=1.0096278344169367)"
      ]
     },
     "execution_count": 10,
     "metadata": {},
     "output_type": "execute_result"
    }
   ],
   "source": [
    "sphere = fit3d.sphere_fit(points)\n",
    "sphere"
   ]
  },
  {
   "cell_type": "code",
   "execution_count": 11,
   "id": "55eddd18",
   "metadata": {},
   "outputs": [],
   "source": [
    "geomfitty.plot.plot([points, sphere])"
   ]
  },
  {
   "cell_type": "markdown",
   "id": "a786178a",
   "metadata": {},
   "source": [
    "## Circle3D"
   ]
  },
  {
   "cell_type": "code",
   "execution_count": 12,
   "id": "c106b86d",
   "metadata": {},
   "outputs": [],
   "source": [
    "points = np.random.uniform(low=-1, high=1, size=(3, 100))\n",
    "points[2] /= 10\n",
    "points[:2] /= np.linalg.norm(points[:2], axis=0) * np.random.uniform(\n",
    "    low=0.9, high=1.1, size=(100,)\n",
    ")\n",
    "points = points.T"
   ]
  },
  {
   "cell_type": "code",
   "execution_count": 13,
   "id": "428893cd",
   "metadata": {},
   "outputs": [
    {
     "data": {
      "text/plain": [
       "Circle3D(center=[-0.010172314251821466, -0.00011006668339985068, -0.006337039534944596], direction=[-0.0005385606471765294, 0.007232273863196297, 0.9999737017377992], radius=0.9997940932328554)"
      ]
     },
     "execution_count": 13,
     "metadata": {},
     "output_type": "execute_result"
    }
   ],
   "source": [
    "initial_guess = geom3d.Circle3D([0, 0, 0], [0, 0, 1], 1)\n",
    "circle = fit3d.circle3D_fit(points, initial_guess=initial_guess)\n",
    "circle"
   ]
  },
  {
   "cell_type": "code",
   "execution_count": 14,
   "id": "a06aa454",
   "metadata": {},
   "outputs": [],
   "source": [
    "geomfitty.plot.plot([points, circle])"
   ]
  },
  {
   "cell_type": "markdown",
   "id": "6538d135",
   "metadata": {},
   "source": [
    "## Cylinder\n",
    "As you can see here, the cylinder does not have a begin or an end. "
   ]
  },
  {
   "cell_type": "code",
   "execution_count": 15,
   "id": "0bd95821",
   "metadata": {},
   "outputs": [],
   "source": [
    "points = np.random.uniform(low=-2, high=2, size=(3, 100))\n",
    "points[:2] /= np.linalg.norm(points[:2], axis=0) * np.random.uniform(\n",
    "    low=0.9, high=1.1, size=(100,)\n",
    ")\n",
    "points = points.T"
   ]
  },
  {
   "cell_type": "code",
   "execution_count": 16,
   "id": "ea49b6c4",
   "metadata": {},
   "outputs": [
    {
     "data": {
      "text/plain": [
       "Cylinder(anchor_point=[-0.04469369668804285, -0.009215778958047998, 4.559110842597222], direction=[-0.00940342224045753, -0.0029781376393847297, 0.9999513519898698], radius=1.0087371441341717)"
      ]
     },
     "execution_count": 16,
     "metadata": {},
     "output_type": "execute_result"
    }
   ],
   "source": [
    "#cylinder only works with an initial_guess\n",
    "initial_guess = geom3d.Cylinder([0, 0, 0], [0, 0, 1], 1)\n",
    "cylinder = fit3d.cylinder_fit(points, initial_guess=initial_guess)\n",
    "cylinder"
   ]
  },
  {
   "cell_type": "code",
   "execution_count": 17,
   "id": "0e44eb30",
   "metadata": {},
   "outputs": [],
   "source": [
    "geomfitty.plot.plot([points, cylinder])"
   ]
  },
  {
   "cell_type": "markdown",
   "id": "b2e456d2",
   "metadata": {},
   "source": [
    "## Torus"
   ]
  },
  {
   "cell_type": "code",
   "execution_count": 18,
   "id": "0bb74055",
   "metadata": {},
   "outputs": [],
   "source": [
    "points = np.random.uniform(low=-1, high=1, size=(3, 100))\n",
    "points[2] /= 10\n",
    "points[:2] /= np.linalg.norm(points[:2], axis=0) * np.random.uniform(\n",
    "    low=0.8, high=1.2, size=(100,)\n",
    ")\n",
    "points = points.T"
   ]
  },
  {
   "cell_type": "code",
   "execution_count": 19,
   "id": "fca3eec4",
   "metadata": {},
   "outputs": [
    {
     "data": {
      "text/plain": [
       "Torus(center=[0.013199935249040612, 0.012403955754985173, -0.027083560691336835], direction=[-3.371470213789978e-06, -0.05010774580773725, 0.9987438179026192], major_radius=1.021722306206979, minor_radius=0.12442158033070914)"
      ]
     },
     "execution_count": 19,
     "metadata": {},
     "output_type": "execute_result"
    }
   ],
   "source": [
    "initial_guess = geom3d.Torus([0, 0, 0], [0, 0, 1], 1, 0.1)\n",
    "torus = fit3d.torus_fit(points, initial_guess=initial_guess)\n",
    "torus"
   ]
  },
  {
   "cell_type": "code",
   "execution_count": 20,
   "id": "1ec15b16",
   "metadata": {},
   "outputs": [],
   "source": [
    "geomfitty.plot.plot([points, torus])"
   ]
  }
 ],
 "metadata": {
  "kernelspec": {
   "display_name": "Python 3",
   "language": "python",
   "name": "python3"
  },
  "language_info": {
   "codemirror_mode": {
    "name": "ipython",
    "version": 3
   },
   "file_extension": ".py",
   "mimetype": "text/x-python",
   "name": "python",
   "nbconvert_exporter": "python",
   "pygments_lexer": "ipython3",
   "version": "3.8.9"
  }
 },
 "nbformat": 4,
 "nbformat_minor": 5
}
